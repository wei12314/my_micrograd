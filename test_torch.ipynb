{
 "cells": [
  {
   "cell_type": "code",
   "execution_count": 11,
   "id": "3c3761b0",
   "metadata": {},
   "outputs": [
    {
     "name": "stdout",
     "output_type": "stream",
     "text": [
      "tensor([[ 0.8445, -1.7793, -1.9268],\n",
      "        [-1.3424,  2.4807, -1.6336]])\n"
     ]
    }
   ],
   "source": [
    "import torch\n",
    "x = torch.randn((2,3),requires_grad=True)\n",
    "y = x * x\n",
    "y.backward(torch.ones_like(x))\n",
    "print(x.grad)"
   ]
  },
  {
   "cell_type": "code",
   "execution_count": 9,
   "id": "6abab20b",
   "metadata": {},
   "outputs": [
    {
     "name": "stdout",
     "output_type": "stream",
     "text": [
      "tensor([[1.9010e+00, 1.7306e-01, 3.9920e-05],\n",
      "        [6.9582e-02, 1.6464e-01, 1.3692e+00]], grad_fn=<MulBackward0>)\n"
     ]
    }
   ],
   "source": [
    "y = x * x\n",
    "print(y)\n",
    "# y.backward(torch.tensor([1.0, 1.0, 1.0, 1.0, 1.0, 1.0]))\n",
    "# print(x.grad)"
   ]
  },
  {
   "cell_type": "code",
   "execution_count": null,
   "id": "b28d4ddc",
   "metadata": {},
   "outputs": [],
   "source": []
  }
 ],
 "metadata": {
  "kernelspec": {
   "display_name": "transformer",
   "language": "python",
   "name": "python3"
  },
  "language_info": {
   "codemirror_mode": {
    "name": "ipython",
    "version": 3
   },
   "file_extension": ".py",
   "mimetype": "text/x-python",
   "name": "python",
   "nbconvert_exporter": "python",
   "pygments_lexer": "ipython3",
   "version": "3.10.14"
  }
 },
 "nbformat": 4,
 "nbformat_minor": 5
}
