{
 "cells": [
  {
   "cell_type": "code",
   "execution_count": 6,
   "id": "4b820a09",
   "metadata": {},
   "outputs": [],
   "source": [
    "import numpy as np\n",
    "import matplotlib.pylab as plt\n",
    "%matplotlib inline"
   ]
  },
  {
   "cell_type": "code",
   "execution_count": 2,
   "id": "2090c267",
   "metadata": {},
   "outputs": [],
   "source": [
    "def f(x):\n",
    "    return x**2 - 3 * x + 10"
   ]
  },
  {
   "cell_type": "code",
   "execution_count": 3,
   "id": "4e85c87c",
   "metadata": {},
   "outputs": [
    {
     "data": {
      "text/plain": [
       "10.0"
      ]
     },
     "execution_count": 3,
     "metadata": {},
     "output_type": "execute_result"
    }
   ],
   "source": [
    "f(3.0)"
   ]
  },
  {
   "cell_type": "code",
   "execution_count": 5,
   "id": "58ad17af",
   "metadata": {},
   "outputs": [
    {
     "data": {
      "text/plain": [
       "10.003001"
      ]
     },
     "execution_count": 5,
     "metadata": {},
     "output_type": "execute_result"
    }
   ],
   "source": [
    "# f'x = 2 * x - 3 f'x = lim delth -> 0 (f(x + delth) - f(x)) / delth\n",
    "h = 0.001\n",
    "(f(3.0 + h) - f(3.0)) / h\n",
    "f(3.0 + h)"
   ]
  },
  {
   "cell_type": "code",
   "execution_count": 7,
   "id": "042f06f8",
   "metadata": {},
   "outputs": [
    {
     "data": {
      "text/plain": [
       "[<matplotlib.lines.Line2D at 0x747e141741d0>]"
      ]
     },
     "execution_count": 7,
     "metadata": {},
     "output_type": "execute_result"
    },
    {
     "data": {
      "image/png": "[encoded data removed]",
      "text/plain": [
       "<Figure size 640x480 with 1 Axes>"
      ]
     },
     "metadata": {},
     "output_type": "display_data"
    }
   ],
   "source": [
    "x = np.arange(-5, 5, 0.25)\n",
    "y = f(x)\n",
    "plt.plot(x, y)"
   ]
  },
  {
   "cell_type": "code",
   "execution_count": null,
   "id": "55747424",
   "metadata": {},
   "outputs": [],
   "source": [
    "class Value:\n",
    "    def __init__(self, data, _children=(), _op = \"\"):\n",
    "        self.data = data\n",
    "        self.grad = 0\n",
    "        self._prev = set(_children)\n",
    "        self._backward = lambda: None\n",
    "        self._op = _op\n",
    "    \n",
    "    def __add__(self, other):\n",
    "        out = Value(self.data + other.data, (self, other), \"+\")\n",
    "        def backward():\n",
    "            self.grad += 1 * out.grad\n",
    "            other.grad += 1 * out.grad\n",
    "        out._backward = backward\n",
    "        return out\n",
    "    \n",
    "    def __mul__(self, other):\n",
    "        out = Value(self.data * other.data, (self, other), \"*\")\n",
    "        def backward():\n",
    "            self.grad += other.data * out.grad\n",
    "            other.grad += self.data * out.grad\n",
    "        out._backward = backward\n",
    "        return out\n",
    "    \n",
    "    def __repr__(self):\n",
    "        return f\"Value(data:{self.data})\"\n",
    "    \n",
    "    def backward(self):\n",
    "        topo = []\n",
    "        visited = set()\n",
    "        def build_topo(v):\n",
    "            if v not in visited:\n",
    "                visited.add(v)\n",
    "                for child in v._prev:\n",
    "                    build_topo(child)\n",
    "                topo.append(v)\n",
    "        build_topo(self)\n",
    "        self.grad = 1\n",
    "\n",
    "        for v in reversed(topo):\n",
    "            v._backward()\n",
    "\n",
    "    "
   ]
  },
  {
   "cell_type": "code",
   "execution_count": 25,
   "id": "4eaa8d47",
   "metadata": {},
   "outputs": [
    {
     "name": "stdout",
     "output_type": "stream",
     "text": [
      "{Value(data:12.0), Value(data:10.0)}\n"
     ]
    }
   ],
   "source": [
    "a = Value(3.0)\n",
    "b = Value(4.0)\n",
    "c = a * b\n",
    "d = Value(10.0)\n",
    "e = c + d\n",
    "e.grad = 1\n",
    "print(e._prev)"
   ]
  },
  {
   "cell_type": "code",
   "execution_count": 26,
   "id": "d0209cb5",
   "metadata": {},
   "outputs": [],
   "source": [
    "e._backward()"
   ]
  },
  {
   "cell_type": "code",
   "execution_count": 27,
   "id": "ef6091c7",
   "metadata": {},
   "outputs": [
    {
     "name": "stdout",
     "output_type": "stream",
     "text": [
      "1 1\n",
      "4.0 3.0\n"
     ]
    }
   ],
   "source": [
    "print(c.grad, d.grad)\n",
    "c._backward()\n",
    "print(a.grad, b.grad)"
   ]
  },
  {
   "cell_type": "code",
   "execution_count": 28,
   "id": "9aae71d5",
   "metadata": {},
   "outputs": [
    {
     "name": "stdout",
     "output_type": "stream",
     "text": [
      "Value(data:22.2512)\n"
     ]
    }
   ],
   "source": [
    "lr = 0.01\n",
    "a = Value(3.0 + lr * a.grad)\n",
    "b = Value(4.0 + lr * b.grad)\n",
    "c = a * b\n",
    "d = Value(10.0)\n",
    "e = c + d\n",
    "e.grad = 1\n",
    "print(e)"
   ]
  },
  {
   "cell_type": "code",
   "execution_count": 17,
   "id": "cb05bfae",
   "metadata": {},
   "outputs": [],
   "source": [
    "def get_nodes_edges(root):\n",
    "    nodes = set()\n",
    "    edges = set()\n",
    "    def get(node):\n",
    "        if node not in nodes:\n",
    "            nodes.add(node)\n",
    "        \n",
    "        for child in node._prev:\n",
    "            edges.add((child, node))\n",
    "            get(child)\n",
    "    get(root)\n",
    "    return nodes, edges"
   ]
  },
  {
   "cell_type": "code",
   "execution_count": 18,
   "id": "70d6ee08",
   "metadata": {},
   "outputs": [
    {
     "name": "stdout",
     "output_type": "stream",
     "text": [
      "{Value(data:10.0), Value(data:4.0), Value(data:3.0), Value(data:12.0), Value(data:22.0)}\n",
      "{(Value(data:12.0), Value(data:22.0)), (Value(data:4.0), Value(data:12.0)), (Value(data:10.0), Value(data:22.0)), (Value(data:3.0), Value(data:12.0))}\n"
     ]
    }
   ],
   "source": [
    "n, e = get_nodes_edges(e)\n",
    "print(n)\n",
    "print(e)"
   ]
  },
  {
   "cell_type": "code",
   "execution_count": null,
   "id": "2ae3a476",
   "metadata": {},
   "outputs": [],
   "source": []
  }
 ],
 "metadata": {
  "kernelspec": {
   "display_name": "base",
   "language": "python",
   "name": "python3"
  },
  "language_info": {
   "codemirror_mode": {
    "name": "ipython",
    "version": 3
   },
   "file_extension": ".py",
   "mimetype": "text/x-python",
   "name": "python",
   "nbconvert_exporter": "python",
   "pygments_lexer": "ipython3",
   "version": "3.11.5"
  }
 },
 "nbformat": 4,
 "nbformat_minor": 5
}
